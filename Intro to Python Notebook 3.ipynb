{
 "cells": [
  {
   "cell_type": "markdown",
   "metadata": {},
   "source": [
    "# Introduction to Python : Advanced topics"
   ]
  },
  {
   "cell_type": "markdown",
   "metadata": {},
   "source": [
    "## Last Chapter: Packages and Objects."
   ]
  },
  {
   "cell_type": "markdown",
   "metadata": {},
   "source": [
    "## 1. Packages\n",
    "\n",
    "Before we talked about functions. \n",
    "Let's imagine somebody wrote some very smart functions. How can he/she let other people use it? \n",
    "\n",
    "Copying the lines sounds very... bad. \n",
    "\n",
    "Similar problem: we created a lot of functions for some code (10-thousand lines, for example). Now, we want to use the same functions for another code.\n",
    "\n",
    "What should we do? Copy-paste? Just the functions could be longer than the new code!\n",
    "\n",
    "The solution: create a PACKAGE, that holds all of the functions (and maybe even more things...). Easy to organize, share, read."
   ]
  },
  {
   "cell_type": "markdown",
   "metadata": {},
   "source": [
    "### 1.1 How to get a Package?\n",
    "We let our code use a pakcage by IMPORTING it. Let us import **Numpy**, the most important package for numerical calculations"
   ]
  },
  {
   "cell_type": "code",
   "execution_count": 1,
   "metadata": {},
   "outputs": [],
   "source": [
    "import numpy "
   ]
  },
  {
   "cell_type": "markdown",
   "metadata": {},
   "source": [
    "### 1.2 What to do with a Package?\n",
    "Inside the package there are many functions. We use the following format:\n",
    "\n",
    "*package_name.function_name\\( input for function \\)*\n",
    "\n",
    "Example: use the Numpy's function sum to add a list of numbers"
   ]
  },
  {
   "cell_type": "code",
   "execution_count": 2,
   "metadata": {},
   "outputs": [
    {
     "name": "stdout",
     "output_type": "stream",
     "text": [
      "15\n"
     ]
    }
   ],
   "source": [
    "x = [1,2,3,4,5]\n",
    "y = numpy.sum(x)\n",
    "print(y)"
   ]
  },
  {
   "cell_type": "markdown",
   "metadata": {},
   "source": [
    "Example: use Numpy's function to calculate the average of the absolute value of a few numbers:"
   ]
  },
  {
   "cell_type": "code",
   "execution_count": 3,
   "metadata": {},
   "outputs": [
    {
     "name": "stdout",
     "output_type": "stream",
     "text": [
      "12.9875\n"
     ]
    }
   ],
   "source": [
    "x = [-1,12, 11, 14.5, -16, 10.3, 9.1, -30]\n",
    "y = numpy.average(numpy.abs(x))\n",
    "print(y)"
   ]
  },
  {
   "cell_type": "markdown",
   "metadata": {},
   "source": [
    "# 2. Objects - more than variables\n",
    "\n",
    "In the previous examples, we've used $x$ and $y$. Those are numbers that get a value.\n",
    "\n",
    "It is very useful to have somethings that are like variables, but more complex. Those are OBJECTS. Advantage: they hold more information, and can be easier to use.\n",
    "\n",
    "Example: Numpy array. Star with a list ($x$), and make it into a numpy.array ($y$)"
   ]
  },
  {
   "cell_type": "code",
   "execution_count": 4,
   "metadata": {},
   "outputs": [
    {
     "name": "stdout",
     "output_type": "stream",
     "text": [
      "here is x\n",
      "[1, 2, 3, 4, 5, 6]\n",
      "here is y\n",
      "[1 2 3 4 5 6]\n"
     ]
    }
   ],
   "source": [
    "x  = [1,  2,  3,  4,  5,  6 ]\n",
    "y = numpy.array(x)\n",
    "print('here is x'); print(x)\n",
    "print('here is y'); print(y)"
   ]
  },
  {
   "cell_type": "markdown",
   "metadata": {},
   "source": [
    "Now y has PROPERTIES that x does not! For example, we can ask y what is it's size (number of elements). "
   ]
  },
  {
   "cell_type": "code",
   "execution_count": 5,
   "metadata": {},
   "outputs": [
    {
     "name": "stdout",
     "output_type": "stream",
     "text": [
      "6\n"
     ]
    }
   ],
   "source": [
    "print(y.size)"
   ]
  },
  {
   "cell_type": "markdown",
   "metadata": {},
   "source": [
    "We can't do this with x, and we'll get an error."
   ]
  },
  {
   "cell_type": "code",
   "execution_count": 6,
   "metadata": {},
   "outputs": [
    {
     "ename": "AttributeError",
     "evalue": "'list' object has no attribute 'size'",
     "output_type": "error",
     "traceback": [
      "\u001b[1;31m---------------------------------------------------------------------------\u001b[0m",
      "\u001b[1;31mAttributeError\u001b[0m                            Traceback (most recent call last)",
      "\u001b[1;32m<ipython-input-6-5e429f1d05a5>\u001b[0m in \u001b[0;36m<module>\u001b[1;34m\u001b[0m\n\u001b[1;32m----> 1\u001b[1;33m \u001b[0mprint\u001b[0m\u001b[1;33m(\u001b[0m\u001b[0mx\u001b[0m\u001b[1;33m.\u001b[0m\u001b[0msize\u001b[0m\u001b[1;33m)\u001b[0m\u001b[1;33m\u001b[0m\u001b[1;33m\u001b[0m\u001b[0m\n\u001b[0m",
      "\u001b[1;31mAttributeError\u001b[0m: 'list' object has no attribute 'size'"
     ]
    }
   ],
   "source": [
    "print(x.size)"
   ]
  },
  {
   "cell_type": "markdown",
   "metadata": {},
   "source": [
    "Beside properties, y also has METHODS that x does not. Methods are like functions, but they are built in on the object. \n",
    "Examples:"
   ]
  },
  {
   "cell_type": "code",
   "execution_count": 7,
   "metadata": {},
   "outputs": [
    {
     "name": "stdout",
     "output_type": "stream",
     "text": [
      "method:\n",
      "21\n",
      "function:\n",
      "21\n"
     ]
    }
   ],
   "source": [
    "print('method:')\n",
    "print(y.sum())\n",
    "print('function:')\n",
    "print( numpy.sum(y))"
   ]
  },
  {
   "cell_type": "code",
   "execution_count": 8,
   "metadata": {},
   "outputs": [
    {
     "name": "stdout",
     "output_type": "stream",
     "text": [
      "method:\n",
      "3.5\n",
      "function:\n",
      "3.5\n"
     ]
    }
   ],
   "source": [
    "print('method:')\n",
    "print(y.mean())\n",
    "print('function:')\n",
    "print( numpy.mean(y))"
   ]
  },
  {
   "cell_type": "markdown",
   "metadata": {},
   "source": [
    "Sometimes a methods don't need any more input. \n",
    "\n",
    "*y.sum()* means take y, and calculate it's sum. \n",
    "\n",
    "But some methods do need input. \n",
    "\n",
    "For example: y is a row of 6 elements. We can divide them to 2 rows with 3 elements in each column (a matrix). We use the reshape() method, and specify how many rows and how many columns:"
   ]
  },
  {
   "cell_type": "code",
   "execution_count": 9,
   "metadata": {},
   "outputs": [
    {
     "name": "stdout",
     "output_type": "stream",
     "text": [
      "method:\n",
      "[[1 2 3]\n",
      " [4 5 6]]\n"
     ]
    }
   ],
   "source": [
    "print('method:')\n",
    "print(      y.reshape(2,3)    )"
   ]
  },
  {
   "cell_type": "markdown",
   "metadata": {},
   "source": [
    "Using the Methods sum, max or reshape gives the same output as using the functions.\n",
    "\n",
    "Advantages:\n",
    "\n",
    "1. We need to write less.\n",
    "2. If there are many different objects from different types, it makes tracking easier. \n",
    "3. We can use \"tab\" to see a list of all possible methods an object has! \n"
   ]
  },
  {
   "cell_type": "markdown",
   "metadata": {},
   "source": [
    "## Some more details\n",
    "1. Packages may have division to MODULES. For example, Numpy stores the functions related to linear algebra in \n",
    "numpy.linalg, and functions related to random numbers in numpy.random"
   ]
  },
  {
   "cell_type": "code",
   "execution_count": 11,
   "metadata": {},
   "outputs": [
    {
     "name": "stdout",
     "output_type": "stream",
     "text": [
      "[[0.64999143 0.78741306]\n",
      " [0.3964235  0.20354732]]\n"
     ]
    }
   ],
   "source": [
    "x=numpy.random.rand(2,2) # rand() return a random number between 0 and 1. The inputs tells it how many row, columns to have\n",
    "print(x)"
   ]
  },
  {
   "cell_type": "markdown",
   "metadata": {},
   "source": [
    "2. Some methods are just like a function: get input, give output. Some functions change the object. \n",
    "\n",
    "Example: reshape is like a function (input$\\rightarrow$ output)"
   ]
  },
  {
   "cell_type": "code",
   "execution_count": 12,
   "metadata": {},
   "outputs": [
    {
     "name": "stdout",
     "output_type": "stream",
     "text": [
      "x was not reshaped\n",
      "[[0.64999143 0.78741306]\n",
      " [0.3964235  0.20354732]]\n",
      "y is the reshaped version of x \n",
      "[0.64999143 0.78741306 0.3964235  0.20354732]\n"
     ]
    }
   ],
   "source": [
    "y = x.reshape(4)\n",
    "print('x was not reshaped')\n",
    "print(x)\n",
    "print('y is the reshaped version of x ')\n",
    "print(y)"
   ]
  },
  {
   "cell_type": "markdown",
   "metadata": {},
   "source": [
    "Example: sort is not like a function (changes the object)"
   ]
  },
  {
   "cell_type": "code",
   "execution_count": 13,
   "metadata": {},
   "outputs": [
    {
     "name": "stdout",
     "output_type": "stream",
     "text": [
      "[0.20354732 0.3964235  0.64999143 0.78741306]\n"
     ]
    }
   ],
   "source": [
    "y.sort()\n",
    "print(y)"
   ]
  },
  {
   "cell_type": "markdown",
   "metadata": {},
   "source": [
    "Exercise: \n",
    "1. import the matplotlib package (popular package for plotting)\n",
    "2. create a Numpy array  of 100 random numbers between 0 and 1\n",
    "3. sort it from small to large\n",
    "3. make y the square of x (בריבוע).  \n",
    "*Hint: a ** b means \"a to the power of b\"*\n",
    "4. plot one against the other using matplotlib.pyplot.plot() function. "
   ]
  },
  {
   "cell_type": "markdown",
   "metadata": {},
   "source": [
    "## Answer"
   ]
  },
  {
   "cell_type": "code",
   "execution_count": 4,
   "metadata": {},
   "outputs": [
    {
     "data": {
      "text/plain": [
       "[<matplotlib.lines.Line2D at 0x7fdbd40365f8>]"
      ]
     },
     "execution_count": 4,
     "metadata": {},
     "output_type": "execute_result"
    },
    {
     "data": {
      "image/png": "[encoded data removed]",
      "text/plain": [
       "<Figure size 432x288 with 1 Axes>"
      ]
     },
     "metadata": {
      "needs_background": "light"
     },
     "output_type": "display_data"
    }
   ],
   "source": [
    "import matplotlib.pyplot\n",
    "import numpy\n",
    "x  = numpy.random.rand(100)\n",
    "x.sort()\n",
    "y = x**2\n",
    "matplotlib.pyplot.plot(x,y,'.')"
   ]
  },
  {
   "cell_type": "code",
   "execution_count": null,
   "metadata": {},
   "outputs": [],
   "source": []
  }
 ],
 "metadata": {
  "kernelspec": {
   "display_name": "Python 3",
   "language": "python",
   "name": "python3"
  },
  "language_info": {
   "codemirror_mode": {
    "name": "ipython",
    "version": 3
   },
   "file_extension": ".py",
   "mimetype": "text/x-python",
   "name": "python",
   "nbconvert_exporter": "python",
   "pygments_lexer": "ipython3",
   "version": "3.7.3"
  }
 },
 "nbformat": 4,
 "nbformat_minor": 2
}
