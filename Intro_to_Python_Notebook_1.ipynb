{
 "cells": [
  {
   "cell_type": "markdown",
   "metadata": {
    "colab_type": "text",
    "id": "rIqOCJNjeMm6"
   },
   "source": [
    "# Introduction to Python, Part 1"
   ]
  },
  {
   "cell_type": "markdown",
   "metadata": {
    "colab_type": "text",
    "id": "8s_HBTO_eMm8"
   },
   "source": [
    "### Based on: A guide to principles of computer science and numerical computing for all ages"
   ]
  },
  {
   "cell_type": "markdown",
   "metadata": {
    "colab_type": "text",
    "id": "jRP77y4XeMm9"
   },
   "source": [
    "# OVERVIEW"
   ]
  },
  {
   "cell_type": "markdown",
   "metadata": {
    "colab_type": "text",
    "id": "kHjzzpageMm-"
   },
   "source": [
    "In this demo, we'll learn about a few different things. "
   ]
  },
  {
   "cell_type": "markdown",
   "metadata": {
    "colab_type": "text",
    "id": "w4ZZIodzeMm_"
   },
   "source": [
    "<img width='400px' align='left' src='http://miriamposner.com/classes/dh101f16/wp-content/uploads/sites/5/2016/11/Python_logo.png'>"
   ]
  },
  {
   "cell_type": "markdown",
   "metadata": {
    "colab_type": "text",
    "id": "aLSINZjCeMnA"
   },
   "source": [
    "First and foremost, we're going to learn about an inceredibly fun and easy to learn programming language called python. It is the first choice of data scientists, hackers and even international spies! Most importantly, as I had mentioned, it's a lot of fun to do things with python."
   ]
  },
  {
   "cell_type": "markdown",
   "metadata": {
    "colab_type": "text",
    "id": "PO-9EbjPeMnB"
   },
   "source": [
    "<img width='250px' align='left' src='http://jupyter.org/assets/try/jupyter.png'>"
   ]
  },
  {
   "cell_type": "markdown",
   "metadata": {
    "colab_type": "text",
    "id": "8nR3RGGUeMnC"
   },
   "source": [
    "The second thing we're going to learn about, is Jupyter Notebooks, which is this platform we're using right now. In the past most programming was done from the command line..."
   ]
  },
  {
   "cell_type": "markdown",
   "metadata": {
    "colab_type": "text",
    "id": "9O8Y5Z4WeMnE"
   },
   "source": [
    "What Jupyter notebooks do, is put together the command line and text editor in a way that is easy to manage for anyone, even people without any experience with programming. "
   ]
  },
  {
   "cell_type": "markdown",
   "metadata": {
    "colab_type": "text",
    "id": "sW0ZHnCSeMnF"
   },
   "source": [
    "# PART 1 : Introduction to Python"
   ]
  },
  {
   "cell_type": "markdown",
   "metadata": {
    "colab_type": "text",
    "id": "JcNNGyEGeMnG"
   },
   "source": [
    "Python language is very powerful tool for creating any kind of computer program, but today we're going to focus solely on how to perform some very basic techniques and ideas found in all computer programming languages."
   ]
  },
  {
   "cell_type": "markdown",
   "metadata": {
    "colab_type": "text",
    "id": "f5-1dUyxeMnH"
   },
   "source": [
    "### 1.1 Hello World"
   ]
  },
  {
   "cell_type": "markdown",
   "metadata": {
    "colab_type": "text",
    "id": "fg6aQAyoeMnI"
   },
   "source": [
    "Let us make the the notebook print a sentence or a word:"
   ]
  },
  {
   "cell_type": "code",
   "execution_count": 0,
   "metadata": {
    "colab": {},
    "colab_type": "code",
    "id": "eXiTp32weMnJ",
    "outputId": "61a09796-aa68-41d8-a6df-797ed1d32726"
   },
   "outputs": [
    {
     "name": "stdout",
     "output_type": "stream",
     "text": [
      "hello world\n"
     ]
    }
   ],
   "source": [
    "print(\"hello world\")"
   ]
  },
  {
   "cell_type": "code",
   "execution_count": 1,
   "metadata": {
    "colab": {},
    "colab_type": "code",
    "id": "PtZTTdiseMnO",
    "outputId": "72a76cbf-a097-4462-e612-3610990c4c53"
   },
   "outputs": [
    {
     "name": "stdout",
     "output_type": "stream",
     "text": [
      "Hello\n",
      "World\n"
     ]
    }
   ],
   "source": [
    "print(\"Hello\\nWorld\")"
   ]
  },
  {
   "cell_type": "markdown",
   "metadata": {
    "colab_type": "text",
    "id": "aSLuoyTNeMnT"
   },
   "source": [
    "<img align='left' src='https://i.pinimg.com/originals/90/6a/d9/906ad9a5dc4ed6ee65fd1b03d63e1663.gif'>"
   ]
  },
  {
   "cell_type": "markdown",
   "metadata": {
    "colab_type": "text",
    "id": "kStPzWuBeMnU"
   },
   "source": [
    "Congratulations, now you know how to write a simple program in Python language! Yet much remains to learn, so let's move on :) "
   ]
  },
  {
   "cell_type": "markdown",
   "metadata": {
    "colab_type": "text",
    "id": "MVE5BA__eMnV"
   },
   "source": [
    "### 1.2. Mathemical Operations"
   ]
  },
  {
   "cell_type": "markdown",
   "metadata": {
    "colab_type": "text",
    "id": "vLVZe7lreMnW"
   },
   "source": [
    "Let's start with some basic numerical operations."
   ]
  },
  {
   "cell_type": "code",
   "execution_count": 0,
   "metadata": {
    "colab": {},
    "colab_type": "code",
    "id": "yUcE31TdeMnX",
    "outputId": "b5fdb4b1-fa85-4d6f-fc77-4173ee7c9d1f"
   },
   "outputs": [
    {
     "data": {
      "text/plain": [
       "2"
      ]
     },
     "execution_count": 3,
     "metadata": {
      "tags": []
     },
     "output_type": "execute_result"
    }
   ],
   "source": [
    "1 + 1"
   ]
  },
  {
   "cell_type": "code",
   "execution_count": 0,
   "metadata": {
    "colab": {},
    "colab_type": "code",
    "id": "b2vlnfbDeMnc",
    "outputId": "e3f94de1-9357-4d17-95f1-eb6bdd662d92"
   },
   "outputs": [
    {
     "data": {
      "text/plain": [
       "4"
      ]
     },
     "execution_count": 4,
     "metadata": {
      "tags": []
     },
     "output_type": "execute_result"
    }
   ],
   "source": [
    "2 * 2"
   ]
  },
  {
   "cell_type": "code",
   "execution_count": 2,
   "metadata": {
    "colab": {},
    "colab_type": "code",
    "id": "AAF8d7M-eMnl",
    "outputId": "7472e4d7-448a-40d6-e20b-aa51cbc480bf"
   },
   "outputs": [
    {
     "data": {
      "text/plain": [
       "1.6666666666666667"
      ]
     },
     "execution_count": 2,
     "metadata": {},
     "output_type": "execute_result"
    }
   ],
   "source": [
    "(3 - 2) * 5 / 3"
   ]
  },
  {
   "cell_type": "markdown",
   "metadata": {},
   "source": [
    "Notice the difference between these expressions:"
   ]
  },
  {
   "cell_type": "code",
   "execution_count": 0,
   "metadata": {
    "colab": {},
    "colab_type": "code",
    "id": "8hqieonYeMng",
    "outputId": "2712056c-7d10-444d-9752-0e04579e074d"
   },
   "outputs": [
    {
     "data": {
      "text/plain": [
       "2.5"
      ]
     },
     "execution_count": 1,
     "metadata": {
      "tags": []
     },
     "output_type": "execute_result"
    }
   ],
   "source": [
    "5 / 2"
   ]
  },
  {
   "cell_type": "code",
   "execution_count": 3,
   "metadata": {},
   "outputs": [
    {
     "data": {
      "text/plain": [
       "2"
      ]
     },
     "execution_count": 3,
     "metadata": {},
     "output_type": "execute_result"
    }
   ],
   "source": [
    "5 // 2"
   ]
  },
  {
   "cell_type": "code",
   "execution_count": 6,
   "metadata": {},
   "outputs": [
    {
     "data": {
      "text/plain": [
       "1"
      ]
     },
     "execution_count": 6,
     "metadata": {},
     "output_type": "execute_result"
    }
   ],
   "source": [
    "5 % 2"
   ]
  },
  {
   "cell_type": "markdown",
   "metadata": {
    "colab_type": "text",
    "id": "fUWxvP_SeMnp"
   },
   "source": [
    "It's that easy!"
   ]
  },
  {
   "cell_type": "markdown",
   "metadata": {
    "colab_type": "text",
    "id": "RScA2Y79eMnq"
   },
   "source": [
    "### 1.3. Data types"
   ]
  },
  {
   "cell_type": "markdown",
   "metadata": {
    "colab_type": "text",
    "id": "8Rp0bhmweMnr"
   },
   "source": [
    "Above we saw that \\begin{equation}1+1=2\\end{equation} but that \\begin{equation} \\frac{5}{2} = 2.5\\end{equation}\n",
    "\n",
    "Those are two different numbers when programming: \n",
    "1. Integers: a simple number (like 1,2,3,4...). Those can answer \"what place you are?\" - first, second, third. But not \"in in the 15.004527777 place\".\n",
    "2. Floats : actual numbers (3.14, 20.1, 50.0, 15.004527777). Those can answer \"how much does it cost?\", \"what is the length?\". Those contain a decimal point, and numbers on both sides. \n",
    "\n",
    "Additionally, we have \"strings\": contain characters. For example, words and sentences are strings. \n",
    "\n",
    "There are more complex types of data. We will meet them in the future."
   ]
  },
  {
   "cell_type": "markdown",
   "metadata": {
    "colab_type": "text",
    "id": "MA9qTCLeeMns"
   },
   "source": [
    "### 1.4 Variables\n",
    "In all programing languages, variables hold values. Those can be either:\n",
    "1. a single number,\n",
    "2. many numbers,\n",
    "3. a string,\n",
    "4. something more complicated (a whole nueral network, an image...)\n",
    "\n",
    "We set a value to a variable by:\n",
    "\\begin{equation}\n",
    "\\text{variable} = \\text{value}\n",
    "\\end{equation}\n",
    "\n",
    "The code will put the value in the right in the variable in the left.\n",
    "\n",
    "Examples: (don't be afrain of the \"print\", we'll understand it later)"
   ]
  },
  {
   "cell_type": "code",
   "execution_count": 0,
   "metadata": {
    "colab": {},
    "colab_type": "code",
    "id": "7xBfAI5jeMnt",
    "outputId": "4b0dad97-27d5-4f53-a9d8-d4d32a6e5b0e"
   },
   "outputs": [
    {
     "name": "stdout",
     "output_type": "stream",
     "text": [
      "4\n"
     ]
    }
   ],
   "source": [
    "x = 4 #this is an integer\n",
    "print(x)"
   ]
  },
  {
   "cell_type": "code",
   "execution_count": 0,
   "metadata": {
    "colab": {},
    "colab_type": "code",
    "id": "SxIsQX_beMny",
    "outputId": "137d5d79-90e8-4a35-c20d-0e80097f1053"
   },
   "outputs": [
    {
     "name": "stdout",
     "output_type": "stream",
     "text": [
      "[1, 2, 3, 4]\n"
     ]
    }
   ],
   "source": [
    "x = [1,2,3,4] #this is a list\n",
    "print(x)"
   ]
  },
  {
   "cell_type": "code",
   "execution_count": 0,
   "metadata": {
    "colab": {},
    "colab_type": "code",
    "id": "kC2YGgfBeMn3",
    "outputId": "833f13e1-19f4-4daf-a95c-7bf969f96dc0"
   },
   "outputs": [
    {
     "name": "stdout",
     "output_type": "stream",
     "text": [
      "x is now a string!\n"
     ]
    }
   ],
   "source": [
    "x = 'x is now a string!' #this is a string\n",
    "print(x)"
   ]
  },
  {
   "cell_type": "code",
   "execution_count": 9,
   "metadata": {},
   "outputs": [
    {
     "data": {
      "text/plain": [
       "'hold'"
      ]
     },
     "execution_count": 9,
     "metadata": {},
     "output_type": "execute_result"
    }
   ],
   "source": [
    "z = [\"lists\",\"can\",\"also\",\"hold\",\"strings\"] #lists can also hold strings\n",
    "z[3] #here we accessed a single member of the list"
   ]
  },
  {
   "cell_type": "markdown",
   "metadata": {
    "colab_type": "text",
    "id": "UJWDD8AeeMn8"
   },
   "source": [
    "Question: are those two codes the same?"
   ]
  },
  {
   "cell_type": "code",
   "execution_count": 0,
   "metadata": {
    "colab": {},
    "colab_type": "code",
    "id": "h0L2RkGreMn9",
    "outputId": "503b95a6-bdbb-4942-b444-ed3cd4965abb"
   },
   "outputs": [
    {
     "name": "stdout",
     "output_type": "stream",
     "text": [
      "10\n",
      "10\n"
     ]
    }
   ],
   "source": [
    "x = 5\n",
    "y = 10 \n",
    "x = y\n",
    "print(x)\n",
    "print(y)"
   ]
  },
  {
   "cell_type": "code",
   "execution_count": 0,
   "metadata": {
    "colab": {},
    "colab_type": "code",
    "id": "VJWW0wu3eMoD",
    "outputId": "84425a2d-aa71-48f7-e26f-32d551772b7d"
   },
   "outputs": [
    {
     "name": "stdout",
     "output_type": "stream",
     "text": [
      "5\n",
      "5\n"
     ]
    }
   ],
   "source": [
    "x = 5\n",
    "y = 10\n",
    "y = x\n",
    "print(x)\n",
    "print(y)"
   ]
  },
  {
   "cell_type": "markdown",
   "metadata": {
    "colab_type": "text",
    "id": "ELxfbpGWeMoJ"
   },
   "source": [
    "### 1.5. Functions"
   ]
  },
  {
   "cell_type": "markdown",
   "metadata": {
    "colab_type": "text",
    "id": "3sDQT7YEeMoL"
   },
   "source": [
    "Functions have this logic:\n",
    "1. input $\\rightarrow$ output, \n",
    "\n",
    "or:\n",
    "2. input $\\rightarrow$ do action.\n",
    "\n",
    "(\"inputs\" are sometimes called \"arguments\")"
   ]
  },
  {
   "cell_type": "markdown",
   "metadata": {
    "colab_type": "text",
    "id": "T3b7KGEAeMoM"
   },
   "source": [
    "Example: take a number and return it's absolute value. "
   ]
  },
  {
   "cell_type": "code",
   "execution_count": 0,
   "metadata": {
    "colab": {},
    "colab_type": "code",
    "id": "msy2JQ_reMoN",
    "outputId": "4b342870-2ea4-46af-dd57-7cd2fcf17598"
   },
   "outputs": [
    {
     "data": {
      "text/plain": [
       "5"
      ]
     },
     "execution_count": 10,
     "metadata": {
      "tags": []
     },
     "output_type": "execute_result"
    }
   ],
   "source": [
    "abs(-5)"
   ]
  },
  {
   "cell_type": "markdown",
   "metadata": {
    "colab_type": "text",
    "id": "loIiKYvfeMoR"
   },
   "source": [
    "Question: Create the following code.\n",
    "\n",
    "1. Set a variable to be -2.\n",
    "2. calculate the absolute value of it.\n",
    "3. put the absolute value in another variable.\n",
    "4. print the new variable.\n"
   ]
  },
  {
   "cell_type": "markdown",
   "metadata": {
    "colab_type": "text",
    "id": "ATOJcCSYeMoS"
   },
   "source": [
    "Functions are important because:\n",
    "1. they are easy to use.\n",
    "2. make the code clean and readable (we will see that with time).\n",
    "3. can create new function once and use it many times.\n",
    "4. can use functions other people made."
   ]
  },
  {
   "cell_type": "markdown",
   "metadata": {},
   "source": [
    "Lets create a function of our own:"
   ]
  },
  {
   "cell_type": "code",
   "execution_count": null,
   "metadata": {},
   "outputs": [],
   "source": [
    "def my_function(a):\n",
    "    print(\"the value you gave me is now doubled!\")\n",
    "    a = a*2\n",
    "    return a"
   ]
  },
  {
   "cell_type": "markdown",
   "metadata": {},
   "source": [
    "Now you try creating a function of your own:"
   ]
  },
  {
   "cell_type": "code",
   "execution_count": null,
   "metadata": {},
   "outputs": [],
   "source": []
  },
  {
   "cell_type": "markdown",
   "metadata": {
    "colab_type": "text",
    "id": "QiTXQJ7deMoT"
   },
   "source": [
    "Sweet. Let's stop learning the basic concepts here and put it in to practice with something interesting in the next episode. But first, let's summarize the learnings of this introductory section.\n",
    "\n",
    "### Part 1 Summary\n",
    "\n",
    "- print() is the command to print something on the screen\n",
    "- Mathematical operations are very easy to perform in Python\n",
    "- Python deals with numbers based on data types\n",
    "- In Python there are two numerical data types; int and float\n",
    "- Functions are powerful tools for easily performing operations \n",
    "- Functions may accept arguments (parameters) as input \n",
    "- Functions are computer processes, and arguments are what is being processed\n",
    "\n",
    "That's it for the introduction. Actually, you've learn far more than you realize at this point. Even if you became the best programmer in the world, these ideas would be some of the key building blocks you'd be using again and again. Great job getting this far!"
   ]
  },
  {
   "cell_type": "markdown",
   "metadata": {
    "colab_type": "text",
    "collapsed": true,
    "id": "c2skc7O3eMoU"
   },
   "source": [
    "<img width='400px' align='left' src='https://media.tenor.com/images/48b90c5c6f1145cb8b9931384732e3d3/tenor.gif'>"
   ]
  },
  {
   "cell_type": "markdown",
   "metadata": {
    "colab_type": "text",
    "id": "nOuTvc--eMoV"
   },
   "source": [
    "# Answers to questions"
   ]
  },
  {
   "cell_type": "markdown",
   "metadata": {
    "colab_type": "text",
    "id": "INbYSpiOeMoV"
   },
   "source": [
    "1. No! x=y will put the value of y into x. y=x will put the value of x into y. "
   ]
  },
  {
   "cell_type": "markdown",
   "metadata": {
    "colab_type": "text",
    "id": "6KbkZfireMoW"
   },
   "source": [
    "2. the code is:"
   ]
  },
  {
   "cell_type": "code",
   "execution_count": 0,
   "metadata": {
    "colab": {},
    "colab_type": "code",
    "id": "YO5HfdpzeMoX",
    "outputId": "85b1a054-1370-4b0a-a963-e6df94da3e28"
   },
   "outputs": [
    {
     "name": "stdout",
     "output_type": "stream",
     "text": [
      "2\n"
     ]
    }
   ],
   "source": [
    "x = -2\n",
    "y = abs(x)\n",
    "print(y)"
   ]
  }
 ],
 "metadata": {
  "colab": {
   "name": "Copy of Intro to Python Notebook 1.ipynb",
   "provenance": [],
   "version": "0.3.2"
  },
  "kernelspec": {
   "display_name": "Python 3",
   "language": "python",
   "name": "python3"
  },
  "language_info": {
   "codemirror_mode": {
    "name": "ipython",
    "version": 3
   },
   "file_extension": ".py",
   "mimetype": "text/x-python",
   "name": "python",
   "nbconvert_exporter": "python",
   "pygments_lexer": "ipython3",
   "version": "3.7.3"
  }
 },
 "nbformat": 4,
 "nbformat_minor": 1
}
