{
 "cells": [
  {
   "cell_type": "markdown",
   "metadata": {},
   "source": [
    "# Introduction to Python, Part 2"
   ]
  },
  {
   "cell_type": "markdown",
   "metadata": {},
   "source": [
    "### Based on: A guide to principles of computer science and numerical computing for all ages"
   ]
  },
  {
   "cell_type": "markdown",
   "metadata": {},
   "source": [
    "------------------"
   ]
  },
  {
   "cell_type": "markdown",
   "metadata": {},
   "source": [
    "# PART 2 : Logic and loops"
   ]
  },
  {
   "cell_type": "markdown",
   "metadata": {},
   "source": [
    "## 1. Logical variables\n",
    "We've met variables before, and see that they can be numbers (integers, floats) and strings. An additional kind of data types are LOGICAL VARIABLES, which basically \"true or false\".\n",
    "\n",
    "\\begin{equation}\n",
    "\\text{ask a True/False question}\\rightarrow \\text{get \"True\" or \"False\"}\n",
    "\\end{equation}\n",
    "\n",
    "Example: Set two variables. We ask if the first is smaller than the second. We store the answer in another variable, and print it."
   ]
  },
  {
   "cell_type": "code",
   "execution_count": 2,
   "metadata": {},
   "outputs": [
    {
     "name": "stdout",
     "output_type": "stream",
     "text": [
      "True\n"
     ]
    }
   ],
   "source": [
    "x = 2\n",
    "y = 3\n",
    "z = (x<y)\n",
    "print(z)"
   ]
  },
  {
   "cell_type": "code",
   "execution_count": 3,
   "metadata": {},
   "outputs": [
    {
     "name": "stdout",
     "output_type": "stream",
     "text": [
      "False\n"
     ]
    }
   ],
   "source": [
    "z = (x>y)\n",
    "print(z)"
   ]
  },
  {
   "cell_type": "markdown",
   "metadata": {},
   "source": [
    "We can also ask if the two are equal:"
   ]
  },
  {
   "cell_type": "code",
   "execution_count": 4,
   "metadata": {},
   "outputs": [
    {
     "name": "stdout",
     "output_type": "stream",
     "text": [
      "True\n"
     ]
    }
   ],
   "source": [
    "x = 2\n",
    "y = 2\n",
    "z = (x==y)\n",
    "print(z)"
   ]
  },
  {
   "cell_type": "markdown",
   "metadata": {},
   "source": [
    "## 1.1 What are logical variables good for?\n",
    "\n",
    "Logical expressions can be used for CONDITIONALS. \n",
    "Conditionals preform some operation if a condition is met, and do not otherwise. \n",
    "Example:"
   ]
  },
  {
   "cell_type": "code",
   "execution_count": 5,
   "metadata": {},
   "outputs": [
    {
     "name": "stdout",
     "output_type": "stream",
     "text": [
      "x is smaller than y\n"
     ]
    }
   ],
   "source": [
    "x = 2\n",
    "y = 3\n",
    "if x<y : \n",
    "    print('x is smaller than y')\n"
   ]
  },
  {
   "cell_type": "markdown",
   "metadata": {},
   "source": [
    "We can also use \"if.... else\". They do something if the condition is met, and perform something else if not:"
   ]
  },
  {
   "cell_type": "code",
   "execution_count": 6,
   "metadata": {},
   "outputs": [
    {
     "name": "stdout",
     "output_type": "stream",
     "text": [
      "y is bigger or equal to x!\n"
     ]
    }
   ],
   "source": [
    "if x>y:\n",
    "    print('x is bigger than y!')\n",
    "else :\n",
    "    print('y is bigger or equal to x!')\n"
   ]
  },
  {
   "cell_type": "markdown",
   "metadata": {},
   "source": [
    "The line after the condition starts more to the right - this is called IDENTATION, and PYTHON could not understand the code without it."
   ]
  },
  {
   "cell_type": "code",
   "execution_count": 7,
   "metadata": {},
   "outputs": [
    {
     "name": "stdout",
     "output_type": "stream",
     "text": [
      "y is bigger or equal to x!\n"
     ]
    }
   ],
   "source": [
    "if x>y:\n",
    "    print('x is bigger than y!')\n",
    "else :\n",
    "    print('y is bigger or equal to x!')\n"
   ]
  },
  {
   "cell_type": "markdown",
   "metadata": {},
   "source": [
    "Question: Write the following code:\n",
    "1. create two variables with different values\n",
    "2. calculate\n",
    "\\begin{equation}\n",
    "\\text{bigger } / \\text{ smaller}\n",
    "\\end{equation}\n",
    "3. print the result\n",
    "Make the code work no matter which is the bigger!"
   ]
  },
  {
   "cell_type": "code",
   "execution_count": null,
   "metadata": {},
   "outputs": [],
   "source": []
  },
  {
   "cell_type": "markdown",
   "metadata": {},
   "source": [
    "In logical statements, we can add \"or\" and \"and\" between conditions to get a new condition\n",
    "1. \"or\" : need only one of the conditions\n",
    "2. \"and\" : need both of the conditions\n",
    "3. "
   ]
  },
  {
   "cell_type": "code",
   "execution_count": 40,
   "metadata": {},
   "outputs": [
    {
     "data": {
      "text/plain": [
       "False"
      ]
     },
     "execution_count": 40,
     "metadata": {},
     "output_type": "execute_result"
    }
   ],
   "source": [
    "(2<1) or (4<3)"
   ]
  },
  {
   "cell_type": "code",
   "execution_count": 39,
   "metadata": {},
   "outputs": [
    {
     "data": {
      "text/plain": [
       "True"
      ]
     },
     "execution_count": 39,
     "metadata": {},
     "output_type": "execute_result"
    }
   ],
   "source": [
    "2<3 and 5<6"
   ]
  },
  {
   "cell_type": "markdown",
   "metadata": {},
   "source": [
    "We can also use \"not\". Example:"
   ]
  },
  {
   "cell_type": "code",
   "execution_count": 23,
   "metadata": {},
   "outputs": [
    {
     "name": "stdout",
     "output_type": "stream",
     "text": [
      "unequal\n"
     ]
    }
   ],
   "source": [
    "x=3\n",
    "y=2\n",
    "if x==y:\n",
    "    print('equal')\n",
    "if ~(x==y): #the ~ sign means 'not'\n",
    "    print('unequal')"
   ]
  },
  {
   "cell_type": "markdown",
   "metadata": {},
   "source": [
    "## Loops\n",
    "loops are an easy way to repeat several orders many times. \n",
    "Two kinds of loop:\n",
    "1. while loop\n",
    "2. for loop\n",
    "\n",
    "The principle is very much the same:\n",
    "\n",
    "While loop:\n",
    "\n",
    "\\begin{equation}\n",
    "\\text{while} (\\text{condition}) :\n",
    "\\end{equation}\n",
    "\\begin{equation}\n",
    "\\quad \\text{orders...}\n",
    "\\end{equation}"
   ]
  },
  {
   "cell_type": "code",
   "execution_count": 42,
   "metadata": {},
   "outputs": [
    {
     "name": "stdout",
     "output_type": "stream",
     "text": [
      "0\n",
      "1\n",
      "2\n",
      "3\n",
      "4\n"
     ]
    }
   ],
   "source": [
    "i=0\n",
    "while i < 5:\n",
    "    print(i)\n",
    "    i=i+1"
   ]
  },
  {
   "cell_type": "markdown",
   "metadata": {},
   "source": [
    "Be careful not to be stuck in an infinite loop!\n",
    "\n",
    "For loops:\n",
    "\\begin{equation}\n",
    "\\text{for (variable and values )}:\n",
    "\\end{equation}\n",
    "\n",
    "\\begin{equation}\n",
    "\\quad \\text{orders...}\n",
    "\\end{equation}\n",
    "\n",
    "most commonly, we define a index-variable and set range of numbers for it:"
   ]
  },
  {
   "cell_type": "code",
   "execution_count": 22,
   "metadata": {},
   "outputs": [
    {
     "name": "stdout",
     "output_type": "stream",
     "text": [
      "i = 0   x[i] = 1\n",
      "i = 1   x[i] = 2\n",
      "i = 2   x[i] = 3\n",
      "i = 3   x[i] = 4\n",
      "i = 4   x[i] = 5\n"
     ]
    }
   ],
   "source": [
    "x = [1,2,3,4,5]\n",
    "for i in range(5):\n",
    "    print('i =',i,'  x[i] =',x[i])\n",
    "    "
   ]
  },
  {
   "cell_type": "markdown",
   "metadata": {},
   "source": [
    "The for loop syntex is very claver. "
   ]
  },
  {
   "cell_type": "code",
   "execution_count": 12,
   "metadata": {},
   "outputs": [
    {
     "name": "stdout",
     "output_type": "stream",
     "text": [
      "2\n",
      "3\n",
      "5\n",
      "7\n",
      "11\n"
     ]
    }
   ],
   "source": [
    "X = [2,3,5,7,11]\n",
    "for y in X:\n",
    "    print(y)"
   ]
  },
  {
   "cell_type": "markdown",
   "metadata": {},
   "source": [
    "Question: use a loop and conditional expression (if) to print all odd numbers between 0 and 16 (including 16), but not those between 6 and 13.\n",
    "Hint: use the % symbol for modulus (שארית)"
   ]
  },
  {
   "cell_type": "markdown",
   "metadata": {},
   "source": [
    "# List comprehensions (advanced):\n",
    "\n",
    "List comprehensions are a clever way to create lists in the following form:"
   ]
  },
  {
   "cell_type": "code",
   "execution_count": 19,
   "metadata": {},
   "outputs": [
    {
     "name": "stdout",
     "output_type": "stream",
     "text": [
      "[15, 21, 33]\n"
     ]
    }
   ],
   "source": [
    "new_list = [ 3*k for k in X if k>=5 ]\n",
    "print(new_list)"
   ]
  },
  {
   "cell_type": "markdown",
   "metadata": {},
   "source": [
    "## Answers"
   ]
  },
  {
   "cell_type": "markdown",
   "metadata": {},
   "source": [
    "1. The code is "
   ]
  },
  {
   "cell_type": "code",
   "execution_count": 22,
   "metadata": {},
   "outputs": [
    {
     "name": "stdout",
     "output_type": "stream",
     "text": [
      "1.6666666666666667\n"
     ]
    }
   ],
   "source": [
    "x = 15\n",
    "y = 9\n",
    "if x<y :\n",
    "    z = y/x\n",
    "else:\n",
    "    z = x/y\n",
    "    \n",
    "print(z)\n",
    "        "
   ]
  },
  {
   "cell_type": "markdown",
   "metadata": {},
   "source": [
    "2. The code is"
   ]
  },
  {
   "cell_type": "code",
   "execution_count": 65,
   "metadata": {},
   "outputs": [
    {
     "name": "stdout",
     "output_type": "stream",
     "text": [
      "0\n",
      "2\n",
      "4\n",
      "14\n",
      "16\n"
     ]
    }
   ],
   "source": [
    "for i in range(17):\n",
    "    if (i % 2 == 0) and ((i <6) or (i>13)):\n",
    "        print(i)"
   ]
  }
 ],
 "metadata": {
  "kernelspec": {
   "display_name": "Python 3",
   "language": "python",
   "name": "python3"
  },
  "language_info": {
   "codemirror_mode": {
    "name": "ipython",
    "version": 3
   },
   "file_extension": ".py",
   "mimetype": "text/x-python",
   "name": "python",
   "nbconvert_exporter": "python",
   "pygments_lexer": "ipython3",
   "version": "3.7.3"
  }
 },
 "nbformat": 4,
 "nbformat_minor": 1
}
